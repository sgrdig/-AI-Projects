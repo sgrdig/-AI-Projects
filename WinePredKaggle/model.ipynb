{
 "cells": [
  {
   "cell_type": "code",
   "execution_count": null,
   "id": "7abb8e08",
   "metadata": {},
   "outputs": [],
   "source": [
    "import pandas as pd\n",
    "import numpy as np\n",
    "from sklearn.model_selection import train_test_split\n",
    "from sklearn.decomposition import PCA\n",
    "from sklearn.cluster import KMeans\n",
    "from sklearn.metrics import f1_score\n",
    "from sklearn.preprocessing import LabelEncoder\n",
    "from sklearn.metrics import cohen_kappa_score\n",
    "\n",
    "from xgboost import XGBClassifier\n",
    "from lightgbm import LGBMClassifier\n",
    "from catboost import CatBoostClassifier\n",
    "\n",
    "import optuna\n",
    "from optuna.samplers import TPESampler\n"
   ]
  },
  {
   "cell_type": "code",
   "execution_count": 94,
   "id": "220a6195",
   "metadata": {},
   "outputs": [],
   "source": [
    "train = pd.read_csv(\"train.csv\")\n",
    "test = pd.read_csv(\"test.csv\")\n",
    "sample_submission = pd.read_csv(\"sample_submission.csv\")\n",
    "\n",
    "testAns = test.copy()"
   ]
  },
  {
   "cell_type": "code",
   "execution_count": 83,
   "id": "0a1d5cba",
   "metadata": {},
   "outputs": [],
   "source": [
    "train = train.drop(columns=[\"id\"])\n",
    "test = test.drop(columns=[\"id\"])"
   ]
  },
  {
   "cell_type": "code",
   "execution_count": 84,
   "id": "d47cad3c",
   "metadata": {},
   "outputs": [],
   "source": [
    "train[\"quality\"] = train[\"quality\"] - 3"
   ]
  },
  {
   "cell_type": "code",
   "execution_count": 85,
   "id": "92d80d91",
   "metadata": {},
   "outputs": [],
   "source": [
    "def add_columns(df):\n",
    "    df = df.copy()\n",
    "    df[\"total_acid\"] = df[\"fixed acidity\"] + df[\"volatile acidity\"] + df[\"citric acid\"]\n",
    "    df[\"acid/density\"] = df[\"total_acid\"] / df[\"density\"]\n",
    "    df[\"alcohol_density\"] = df[\"alcohol\"] * df[\"density\"]\n",
    "    df[\"sulphate/density\"] = df[\"sulphates\"] / df[\"density\"]\n",
    "    df[\"sulphates/acid\"] = df[\"sulphates\"] / df[\"volatile acidity\"]\n",
    "    df[\"sulphates/chlorides\"] = df[\"sulphates\"] / df[\"chlorides\"]\n",
    "    df[\"sulphates*alcohol\"] = df[\"sulphates\"] * df[\"alcohol\"]\n",
    "    df[\"pH_round1\"] = df[\"pH\"].round(1)\n",
    "    df[\"log1p_residual_sugar\"] = np.log1p(df[\"residual sugar\"])\n",
    "    df[\"citric_acid_per_alcohol\"] = np.where(df[\"alcohol\"] == 0, 0, df[\"citric acid\"] / df[\"alcohol\"])\n",
    "    df[\"citric_acid_type\"] = df[\"citric acid\"].apply(lambda x: 0 if x == 0 else (1 if x == 0.49 else 2))\n",
    "    df[\"alcohol_mean_groupby_pH\"] = df.groupby(\"pH_round1\")[\"alcohol\"].transform(\"mean\")\n",
    "    return df"
   ]
  },
  {
   "cell_type": "code",
   "execution_count": 86,
   "id": "c2196f8b",
   "metadata": {},
   "outputs": [],
   "source": [
    "train = add_columns(train)\n",
    "test = add_columns(test)\n",
    "\n",
    "numeric_cols = train.drop(columns=['quality']).select_dtypes(include=np.number).columns\n",
    "\n",
    "kmeans = KMeans(n_clusters=3, random_state=42)\n",
    "train['cluster'] = kmeans.fit_predict(train[numeric_cols])\n",
    "test['cluster'] = kmeans.predict(test[numeric_cols])\n",
    "\n",
    "X = train.drop(columns=['quality'])\n",
    "y = train['quality']"
   ]
  },
  {
   "cell_type": "code",
   "execution_count": 87,
   "id": "06d39aad",
   "metadata": {},
   "outputs": [],
   "source": [
    "numeric_cols = train.select_dtypes(include=np.number).drop(columns=[\"quality\"]).columns\n",
    "\n",
    "kmeans = KMeans(n_clusters=3, random_state=42)\n",
    "train['cluster'] = kmeans.fit_predict(train[numeric_cols])\n",
    "test['cluster'] = kmeans.predict(test[numeric_cols])"
   ]
  },
  {
   "cell_type": "code",
   "execution_count": 88,
   "id": "6acd9810",
   "metadata": {},
   "outputs": [],
   "source": [
    "X = train.drop(columns=['quality'])\n",
    "y = train['quality']\n",
    "X_train, X_val, y_train, y_val = train_test_split(X, y, stratify=y, test_size=0.2, random_state=42)\n"
   ]
  },
  {
   "cell_type": "code",
   "execution_count": 89,
   "id": "adea1710",
   "metadata": {},
   "outputs": [],
   "source": [
    "xgb = XGBClassifier(use_label_encoder=False, eval_metric='mlogloss', random_state=42)\n",
    "lgb = LGBMClassifier(random_state=42)\n",
    "cat = CatBoostClassifier(verbose=0, random_state=42)\n"
   ]
  },
  {
   "cell_type": "code",
   "execution_count": 90,
   "id": "18c2e7be",
   "metadata": {},
   "outputs": [
    {
     "name": "stdout",
     "output_type": "stream",
     "text": [
      "[LightGBM] [Warning] Found whitespace in feature_names, replace with underlines\n",
      "[LightGBM] [Info] Auto-choosing col-wise multi-threading, the overhead of testing was 0.000580 seconds.\n",
      "You can set `force_col_wise=true` to remove the overhead.\n",
      "[LightGBM] [Info] Total Bins 3086\n",
      "[LightGBM] [Info] Number of data points in the train set: 12000, number of used features: 24\n",
      "[LightGBM] [Info] Start training from score -5.403678\n",
      "[LightGBM] [Info] Start training from score -3.572579\n",
      "[LightGBM] [Info] Start training from score -0.832409\n",
      "[LightGBM] [Info] Start training from score -0.923189\n",
      "[LightGBM] [Info] Start training from score -2.107155\n",
      "[LightGBM] [Info] Start training from score -4.298912\n"
     ]
    },
    {
     "data": {
      "text/plain": [
       "<catboost.core.CatBoostClassifier at 0x168558e1880>"
      ]
     },
     "execution_count": 90,
     "metadata": {},
     "output_type": "execute_result"
    }
   ],
   "source": [
    "xgb.fit(X_train, y_train)\n",
    "lgb.fit(X_train, y_train)\n",
    "cat.fit(X_train, y_train)"
   ]
  },
  {
   "cell_type": "code",
   "execution_count": 91,
   "id": "496d2536",
   "metadata": {},
   "outputs": [],
   "source": [
    "def evaluate(model, name):\n",
    "    preds = model.predict(X_val)\n",
    "    score = cohen_kappa_score(y_val, preds, weights='quadratic')\n",
    "    print(f\"{name} Quadratic Kappa Score: {score:.4f}\")\n",
    "    return model.predict(test)"
   ]
  },
  {
   "cell_type": "code",
   "execution_count": 92,
   "id": "2fd6d717",
   "metadata": {},
   "outputs": [
    {
     "name": "stdout",
     "output_type": "stream",
     "text": [
      "XGBoost Quadratic Kappa Score: 0.3190\n",
      "LightGBM Quadratic Kappa Score: 0.3515\n",
      "CatBoost Quadratic Kappa Score: 0.3393\n"
     ]
    }
   ],
   "source": [
    "preds_xgb = evaluate(xgb, \"XGBoost\")\n",
    "preds_lgb = evaluate(lgb, \"LightGBM\")\n",
    "preds_cat = evaluate(cat, \"CatBoost\")\n"
   ]
  },
  {
   "cell_type": "code",
   "execution_count": 93,
   "id": "4e2c67fd",
   "metadata": {},
   "outputs": [],
   "source": [
    "final_preds = np.round((preds_xgb + preds_lgb + preds_cat) / 3).astype(int) + 3  # remettre sur l’échelle 3-8\n"
   ]
  },
  {
   "cell_type": "code",
   "execution_count": 96,
   "id": "537883fe",
   "metadata": {},
   "outputs": [
    {
     "ename": "NameError",
     "evalue": "name 'optuna' is not defined",
     "output_type": "error",
     "traceback": [
      "\u001b[1;31m---------------------------------------------------------------------------\u001b[0m",
      "\u001b[1;31mNameError\u001b[0m                                 Traceback (most recent call last)",
      "Cell \u001b[1;32mIn[96], line 18\u001b[0m\n\u001b[0;32m     15\u001b[0m     preds \u001b[38;5;241m=\u001b[39m model\u001b[38;5;241m.\u001b[39mpredict(X_val)\n\u001b[0;32m     16\u001b[0m     \u001b[38;5;28;01mreturn\u001b[39;00m cohen_kappa_score(y_val, preds, weights\u001b[38;5;241m=\u001b[39m\u001b[38;5;124m\"\u001b[39m\u001b[38;5;124mquadratic\u001b[39m\u001b[38;5;124m\"\u001b[39m)\n\u001b[1;32m---> 18\u001b[0m study_lgb \u001b[38;5;241m=\u001b[39m \u001b[43moptuna\u001b[49m\u001b[38;5;241m.\u001b[39mcreate_study(direction\u001b[38;5;241m=\u001b[39m\u001b[38;5;124m\"\u001b[39m\u001b[38;5;124mmaximize\u001b[39m\u001b[38;5;124m\"\u001b[39m, sampler\u001b[38;5;241m=\u001b[39mTPESampler(seed\u001b[38;5;241m=\u001b[39m\u001b[38;5;241m42\u001b[39m))\n\u001b[0;32m     19\u001b[0m study_lgb\u001b[38;5;241m.\u001b[39moptimize(lgb_objective, n_trials\u001b[38;5;241m=\u001b[39m\u001b[38;5;241m30\u001b[39m)\n\u001b[0;32m     20\u001b[0m lgb_best \u001b[38;5;241m=\u001b[39m LGBMClassifier(\u001b[38;5;241m*\u001b[39m\u001b[38;5;241m*\u001b[39mstudy_lgb\u001b[38;5;241m.\u001b[39mbest_params)\n",
      "\u001b[1;31mNameError\u001b[0m: name 'optuna' is not defined"
     ]
    }
   ],
   "source": [
    "def lgb_objective(trial):\n",
    "    params = {\n",
    "        \"n_estimators\": trial.suggest_int(\"n_estimators\", 100, 1000),\n",
    "        \"learning_rate\": trial.suggest_float(\"learning_rate\", 0.01, 0.3),\n",
    "        \"max_depth\": trial.suggest_int(\"max_depth\", 3, 12),\n",
    "        \"num_leaves\": trial.suggest_int(\"num_leaves\", 10, 100),\n",
    "        \"min_child_samples\": trial.suggest_int(\"min_child_samples\", 10, 100),\n",
    "        \"subsample\": trial.suggest_float(\"subsample\", 0.5, 1.0),\n",
    "        \"colsample_bytree\": trial.suggest_float(\"colsample_bytree\", 0.5, 1.0),\n",
    "        \"random_state\": 42\n",
    "    }\n",
    "\n",
    "    model = LGBMClassifier(**params)\n",
    "    model.fit(X_train, y_train)\n",
    "    preds = model.predict(X_val)\n",
    "    return cohen_kappa_score(y_val, preds, weights=\"quadratic\")\n",
    "\n",
    "study_lgb = optuna.create_study(direction=\"maximize\", sampler=TPESampler(seed=42))\n",
    "study_lgb.optimize(lgb_objective, n_trials=30)\n",
    "lgb_best = LGBMClassifier(**study_lgb.best_params)\n",
    "lgb_best.fit(X, y)\n",
    "preds_lgb = lgb_best.predict(test)\n"
   ]
  },
  {
   "cell_type": "code",
   "execution_count": null,
   "id": "9ee3c9a7",
   "metadata": {},
   "outputs": [],
   "source": [
    "def cat_objective(trial):\n",
    "    params = {\n",
    "        \"iterations\": trial.suggest_int(\"iterations\", 100, 1000),\n",
    "        \"depth\": trial.suggest_int(\"depth\", 3, 8),\n",
    "        \"learning_rate\": trial.suggest_float(\"learning_rate\", 0.01, 0.3),\n",
    "        \"l2_leaf_reg\": trial.suggest_float(\"l2_leaf_reg\", 1, 10),\n",
    "        \"verbose\": 0,\n",
    "        \"random_state\": 42\n",
    "    }\n",
    "\n",
    "    model = CatBoostClassifier(**params)\n",
    "    model.fit(X_train, y_train)\n",
    "    preds = model.predict(X_val)\n",
    "    return cohen_kappa_score(y_val, preds, weights=\"quadratic\")\n",
    "\n",
    "study_cat = optuna.create_study(direction=\"maximize\", sampler=TPESampler(seed=42))\n",
    "study_cat.optimize(cat_objective, n_trials=30)\n",
    "cat_best = CatBoostClassifier(**study_cat.best_params, verbose=0)\n",
    "cat_best.fit(X, y)\n",
    "preds_cat = cat_best.predict(test)\n"
   ]
  },
  {
   "cell_type": "code",
   "execution_count": null,
   "id": "dfe43664",
   "metadata": {},
   "outputs": [],
   "source": [
    "def xgb_objective(trial):\n",
    "    params = {\n",
    "        \"n_estimators\": trial.suggest_int(\"n_estimators\", 100, 1000),\n",
    "        \"learning_rate\": trial.suggest_float(\"learning_rate\", 0.01, 0.3),\n",
    "        \"max_depth\": trial.suggest_int(\"max_depth\", 3, 12),\n",
    "        \"use_label_encoder\": False,\n",
    "        \"eval_metric\": \"mlogloss\",\n",
    "        \"random_state\": 42\n",
    "    }\n",
    "\n",
    "    model = XGBClassifier(**params)\n",
    "    model.fit(X_train, y_train)\n",
    "    preds = model.predict(X_val)\n",
    "    return cohen_kappa_score(y_val, preds, weights=\"quadratic\")\n",
    "\n",
    "study_xgb = optuna.create_study(direction=\"maximize\", sampler=TPESampler(seed=42))\n",
    "study_xgb.optimize(xgb_objective, n_trials=30)\n",
    "xgb_best = XGBClassifier(**study_xgb.best_params)\n",
    "xgb_best.fit(X, y)\n",
    "preds_xgb = xgb_best.predict(test)\n"
   ]
  },
  {
   "cell_type": "code",
   "execution_count": null,
   "id": "bbdc14d2",
   "metadata": {},
   "outputs": [],
   "source": [
    "final_preds = np.round((preds_xgb + preds_lgb + preds_cat) / 3).astype(int) + 3  # remettre sur l’échelle 3-8\n"
   ]
  },
  {
   "cell_type": "code",
   "execution_count": 95,
   "id": "7c4f59d9",
   "metadata": {},
   "outputs": [],
   "source": [
    "sample_submission['quality'] = final_preds\n",
    "sample_submission.to_csv(\"submission.csv\", index=False)"
   ]
  }
 ],
 "metadata": {
  "kernelspec": {
   "display_name": ".venv",
   "language": "python",
   "name": "python3"
  },
  "language_info": {
   "codemirror_mode": {
    "name": "ipython",
    "version": 3
   },
   "file_extension": ".py",
   "mimetype": "text/x-python",
   "name": "python",
   "nbconvert_exporter": "python",
   "pygments_lexer": "ipython3",
   "version": "3.9.13"
  }
 },
 "nbformat": 4,
 "nbformat_minor": 5
}
